{
  "nbformat": 4,
  "nbformat_minor": 0,
  "metadata": {
    "colab": {
      "provenance": []
    },
    "kernelspec": {
      "name": "python3",
      "display_name": "Python 3"
    },
    "language_info": {
      "name": "python"
    }
  },
  "cells": [
    {
      "cell_type": "markdown",
      "source": [
        "UPPERCASE & LOWERCASE"
      ],
      "metadata": {
        "id": "ew7chJQqDFJW"
      }
    },
    {
      "cell_type": "code",
      "execution_count": 6,
      "metadata": {
        "colab": {
          "base_uri": "https://localhost:8080/"
        },
        "id": "Z8YffCW1CEMd",
        "outputId": "99e92470-c558-4395-d211-0de44bb4a793"
      },
      "outputs": [
        {
          "output_type": "stream",
          "name": "stdout",
          "text": [
            "JACKYCHAN\n",
            "jackychan\n"
          ]
        }
      ],
      "source": [
        "str=input()\n",
        "print(str.swapcase())"
      ]
    },
    {
      "cell_type": "code",
      "source": [
        "str=input()\n",
        "str1=\" \"\n",
        "for i in str:\n",
        "  if i.isupper():\n",
        "     i=i.lower()\n",
        "     str1+=i\n",
        "  else:\n",
        "    i=i.upper()\n",
        "    str1+=i\n",
        "print(str1)"
      ],
      "metadata": {
        "colab": {
          "base_uri": "https://localhost:8080/"
        },
        "id": "hvJCjvWPCVef",
        "outputId": "0c16d1ec-08af-49d5-9601-945dd0c90032"
      },
      "execution_count": 3,
      "outputs": [
        {
          "output_type": "stream",
          "name": "stdout",
          "text": [
            "charLES\n",
            " CHARles\n"
          ]
        }
      ]
    },
    {
      "cell_type": "code",
      "source": [
        "str=input()\n",
        "str=str[0].upper()+str[1:len(str)-1]+str[len(str)-1].upper()\n",
        "print(str)"
      ],
      "metadata": {
        "colab": {
          "base_uri": "https://localhost:8080/"
        },
        "id": "50nKODRHDfHv",
        "outputId": "73375e26-1167-47cd-f5e6-e5518ae979e9"
      },
      "execution_count": 9,
      "outputs": [
        {
          "output_type": "stream",
          "name": "stdout",
          "text": [
            "avengers\n",
            "AvengerS\n"
          ]
        }
      ]
    },
    {
      "cell_type": "code",
      "source": [
        "str = input()\n",
        "words = str.split()\n",
        "cap_words = []\n",
        "\n",
        "for word in words:\n",
        "    if len(word) > 1:\n",
        "        cap_word = word[0].upper() + word[1:-1] + word[-1].upper()\n",
        "    else:\n",
        "        cap_word = word.upper()\n",
        "    cap_words.append(cap_word)\n",
        "\n",
        "print(' '.join(cap_words))\n"
      ],
      "metadata": {
        "colab": {
          "base_uri": "https://localhost:8080/"
        },
        "id": "iLJoaBBME3iy",
        "outputId": "e11b4a16-38fc-41f5-9cda-d904922ff0f9"
      },
      "execution_count": 18,
      "outputs": [
        {
          "output_type": "stream",
          "name": "stdout",
          "text": [
            "crack  a code\n",
            "CracK A CodE\n"
          ]
        }
      ]
    },
    {
      "cell_type": "markdown",
      "source": [
        "REVERSE A STRING"
      ],
      "metadata": {
        "id": "wXLUInQnIUDO"
      }
    },
    {
      "cell_type": "code",
      "source": [
        "str=input()\n",
        "str1=\" \"\n",
        "for i in range(len(str)-1,-1,-1):\n",
        "  str1+=str[i]\n",
        "print(str1)"
      ],
      "metadata": {
        "colab": {
          "base_uri": "https://localhost:8080/"
        },
        "id": "hFh5zUnIHtib",
        "outputId": "0dd8bca9-3082-4475-94fd-a054b9794229"
      },
      "execution_count": 20,
      "outputs": [
        {
          "output_type": "stream",
          "name": "stdout",
          "text": [
            "code\n",
            " edoc\n"
          ]
        }
      ]
    },
    {
      "cell_type": "code",
      "source": [
        "str=input()\n",
        "words=str.split()\n",
        "rev_words=words[::-1]\n",
        "print(' '.join(rev_words))"
      ],
      "metadata": {
        "colab": {
          "base_uri": "https://localhost:8080/"
        },
        "id": "5GMIV-KSJLcn",
        "outputId": "b0f7ad42-4006-4c9f-a77c-ee08a297e9c6"
      },
      "execution_count": 23,
      "outputs": [
        {
          "output_type": "stream",
          "name": "stdout",
          "text": [
            "mounk uik\n",
            "uik mounk\n"
          ]
        }
      ]
    }
  ]
}